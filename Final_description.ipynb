{
 "cells": [
  {
   "cell_type": "markdown",
   "metadata": {},
   "source": [
    "# THE BATTLE OF THE NEIGHBORHOODS \n",
    "_Carlos Alberto Gómez Prado_    \n",
    "**_CAPSTONE PROJECT:_** _IBM Data Science Professional Certificate_  "
   ]
  },
  {
   "cell_type": "markdown",
   "metadata": {},
   "source": [
    "__Data Description:__ The data to be used are of free access, we will rely on the wikipedia from which the information will be scraped to obtain a data frame with the information of the neighborhoods of Cordoba Capital. With all this information we will proceed to extract the relevant information for the investigation and thus be able to represent it graphically with its real geographical location and be able to analyze the different sectors in a radius of up to 500 meters from the point of origin of each area. \n",
    "The strategic points to be researched are located in strategic areas that are very frequently used by the population and by their own knowledge living in this city. \n",
    "In the following section we present the resources that will be used."
   ]
  },
  {
   "cell_type": "markdown",
   "metadata": {},
   "source": [
    "<div class=\"alert alert-block alert-info\" style=\"margin-top: 20px\"></div>\n",
    "<img src =\"https://raw.githubusercontent.com/Azhura/Coursera_Capstone/master/data_01.jpg\">"
   ]
  },
  {
   "cell_type": "markdown",
   "metadata": {},
   "source": [
    "<div class=\"alert alert-block alert-info\" style=\"margin-top: 20px\"></div>\n",
    "<img src =\"https://raw.githubusercontent.com/Azhura/Coursera_Capstone/master/map_cba01.jpg\">"
   ]
  },
  {
   "cell_type": "markdown",
   "metadata": {},
   "source": [
    "# Resources\n",
    "<div class=\"alert alert-block alert-info\" style=\"margin-top: 20px\">\n",
    "<ol>\n",
    "    <li><a href=\"https://nuestraciudad.info/portal/Portal:Tabla_de_barrios_de_C%C3%B3rdoba\">Data source - wikipedia</a></li>\n",
    "    <li><a href=\"https://gobiernoabierto.cordoba.gob.ar/data/datos-abiertos/categoria/sociedad/codigo-postal-para-la-ciudad-de-cordoba/169\">Data source - City of cba</a></li>\n",
    "    <li><a href=\"https://www.coursera.org/learn/applied-data-science-capstone\">Applied Data Science Capstone</a></li>\n",
    "    <li><a href=\"https://www.crummy.com/software/BeautifulSoup/bs4/doc/\">Beautiful Soup Documentation</a></li>\n",
    "    <li><a href=\"https://requests.readthedocs.io/en/master/\">Request Documentation</a></li>\n",
    "    <li><a href=\"https://pandas.pydata.org/docs/\">Pandas Documentation</a></li>\n",
    "    <li><a href=\"https://numpy.org/doc/\">NumPy Documentation</a></li>\n",
    "    <li><a href=\"https://github.com/Azhura/Coursera_Capstone\">Labs</a></li>\n",
    "</ol>\n",
    "</div>"
   ]
  },
  {
   "cell_type": "markdown",
   "metadata": {},
   "source": [
    "This notebook was created by [Carlos Alberto Gómez Prado](https://www.linkedin.com/in/carlospradobigdata/), as an assignment for the IBM coursera course.   \n",
    "\n",
    "This notebook is part of a course on **Coursera** called *Applied Data Science Capstone*. If you accessed this notebook outside the course, you can take this course online by clicking [here](https://www.coursera.org/professional-certificates/ibm-data-science).   \n",
    "Copyright &copy; 2018 [Cognitive Class](https://cognitiveclass.ai/?utm_source=bducopyrightlink&utm_medium=dswb&utm_campaign=bdu). This notebook and its source code are released under the terms of the [MIT License](https://bigdatauniversity.com/mit-license/)."
   ]
  }
 ],
 "metadata": {
  "kernelspec": {
   "display_name": "Python 3.6",
   "language": "python",
   "name": "python3"
  },
  "language_info": {
   "codemirror_mode": {
    "name": "ipython",
    "version": 3
   },
   "file_extension": ".py",
   "mimetype": "text/x-python",
   "name": "python",
   "nbconvert_exporter": "python",
   "pygments_lexer": "ipython3",
   "version": "3.6.9"
  }
 },
 "nbformat": 4,
 "nbformat_minor": 4
}
