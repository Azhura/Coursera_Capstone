{
 "cells": [
  {
   "cell_type": "markdown",
   "metadata": {},
   "source": [
    "# Final Project : Gastronomic Research\n",
    "### Introduction \n",
    "\n",
    "__Objective:__ The research is focused on exploring the best green area for opening gastronomic businesses in the city of Cordoba, Argentina.       \n",
    "To do this we will focus on the center of the capital from its main square and different spots in the city,we will investigate the most frequent places chosen using Foursquare.      \n",
    "We will also compare these spots with some of the neighborhoods with high gastronomic demand and multicultural social movement and using clusters we will explore the best options.      \n",
    "The project is in development so the introduction will be completed as the research progresses.    \n",
    "<div class=\"alert alert-block alert-info\" style=\"margin-top: 20px\"></div>\n",
    "\n",
    "<img src =\"https://cultura.cba.gov.ar/wp-content/uploads/2016/09/buen-pastor1.1000-1900x700_c.jpg\">\n",
    "\n",
    "<div class=\"alert alert-block alert-info\" style=\"margin-top: 20px\"></div>\n",
    " \n",
    "__Brief Review:__ Córdoba is located in the central region of the country, on the banks of the Suquía River.   \n",
    "It is the second most populated city in Argentina after Buenos Aires and the largest in the country.   \n",
    "Córdoba is an important cultural, economic, educational, financial and entertainment center of the region.   \n",
    "It was founded by the Sevillian Jerónimo Luis de Cabrera on July 6, 1573, as a Spanish town that would serve as a refuge against the natives,   \n",
    "and thus be able to move and trade freely.     \n",
    "It is an important cultural factory, receiving university students from all over the country and the world.    \n",
    "Its University, founded in 1613, is the first in Argentina and the fourth oldest in the Americas.     \n",
    "It is considered one of the most important in the continent.  \n",
    "https://es.wikipedia.org/wiki/C%C3%B3rdoba_(Argentina)\n",
    "\n",
    "<div class=\"alert alert-block alert-info\" style=\"margin-top: 20px\"></div>\n",
    "\n",
    "<img src =\"https://www.cordobaturismo.gov.ar/wp-content/uploads/2018/07/Ciudad-de-C%C3%B3rdoba-1.jpg\">\n",
    "\n",
    "<div class=\"alert alert-block alert-info\" style=\"margin-top: 20px\"></div>"
   ]
  },
  {
   "cell_type": "markdown",
   "metadata": {},
   "source": [
    "This notebook was created by [Carlos Alberto Gómez Prado](https://www.linkedin.com/in/carlospradobigdata/), as an assignment for the IBM coursera course.   \n",
    "\n",
    "This notebook is part of a course on **Coursera** called *Applied Data Science Capstone*. If you accessed this notebook outside the course, you can take this course online by clicking [here](https://www.coursera.org/professional-certificates/ibm-data-science).   \n",
    "Copyright &copy; 2018 [Cognitive Class](https://cognitiveclass.ai/?utm_source=bducopyrightlink&utm_medium=dswb&utm_campaign=bdu). This notebook and its source code are released under the terms of the [MIT License](https://bigdatauniversity.com/mit-license/)."
   ]
  },
  {
   "cell_type": "markdown",
   "metadata": {},
   "source": [
    "***"
   ]
  }
 ],
 "metadata": {
  "kernelspec": {
   "display_name": "Python",
   "language": "python",
   "name": "conda-env-python-py"
  },
  "language_info": {
   "codemirror_mode": {
    "name": "ipython",
    "version": 3
   },
   "file_extension": ".py",
   "mimetype": "text/x-python",
   "name": "python",
   "nbconvert_exporter": "python",
   "pygments_lexer": "ipython3",
   "version": "3.6.10"
  }
 },
 "nbformat": 4,
 "nbformat_minor": 4
}
