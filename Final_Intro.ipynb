{
 "cells": [
  {
   "cell_type": "markdown",
   "metadata": {},
   "source": [
    "# THE BATTLE OF THE NEIGHBORHOODS \n",
    "_Carlos Alberto Gómez Prado_    \n",
    "**_CAPSTONE PROJECT:_** _IBM Data Science Professional Certificate_  "
   ]
  },
  {
   "cell_type": "markdown",
   "metadata": {},
   "source": [
    "### Introduction\n",
    "\n",
    "**Background:** When we try to start something new, our mind fills with ideas to get into the most profitable business possible, the one that provides us with financial stability and extra money for our guilty whims and tastes. However, finding the perfect business is a utopian and somewhat emotional idea, considering that the world economy is in a very delicate state, limiting the purchasing power of certain sectors and hindering the path of the entrepreneur who does not have the right tools and strategies to grow his business or start a business. However, in Argentina, as in the case of Cordoba Capital, there are several categories that prevail over time despite the economic crisis that the country has gone through; gastronomy is a clear example of the competitive market since everyone has the need to feed themselves. Some of the most important issues to consider before investing in some of the categories would be to research and explore.\n",
    "\n",
    "**A bit of history:** Cordoba is located in the central region, on the banks of the Suquia River. It is the second most populated city in Argentina after Buenos Aires and the largest in the country and is an important cultural, economic, educational, financial and entertainment center in the region.   \n",
    "  It was founded by the Sevillian Jerónimo Luis de Cabrera on July 6, 1573, as a Spanish city that would serve as a refuge against the natives,   \n",
    "  so you can move around and trade freely.     \n",
    "  It is an important cultural factory, which receives university students from all over the country and the world. Its University, founded in 1613, is the first in Argentina and the fourth oldest in America and is considered one of the most important in the continent.   \n",
    " \n",
    "**Business problem:** The objective of the project is to explore the most popular categories in the city of Córdoba, Argentina, and thus provide the investor with a free tool to analyze the general panorama of the most popular categories in this waterway of the people. This will help to improve many aspects in the decision making process and will provide great knowledge to be able to plan the success of the business using it as information or simply to be able to put our business idea into action. To do this we will focus on 5 strategic points of the city, which we will break down supported by the Foursquare tool.   \n",
    "\n",
    "**Objective:** With the geographic and demographic information extracted from the research,   \n",
    "  we will have a generalised picture of the preferences and opportunities in different parts of the city. In this way we can ask ourselves: What is the best option to consider? What types of categories dominate the market? Which places are the most preferred? What type of place prevails over time? You will have this knowledge and be able to evaluate the best way forward."
   ]
  },
  {
   "cell_type": "markdown",
   "metadata": {},
   "source": [
    "<div class=\"alert alert-block alert-info\" style=\"margin-top: 20px\"></div>"
   ]
  },
  {
   "cell_type": "markdown",
   "metadata": {},
   "source": [
    "# Resources\n",
    "<div class=\"alert alert-block alert-info\" style=\"margin-top: 20px\">\n",
    "<ol>\n",
    "        <li><a href=\"https://dataplatform.cloud.ibm.com/analytics/notebooks/v2/ca8726ce-c33a-4cf1-8aec-ab4fb7c58fa0/view?access_token=3b3c89fccc82d8404fe49ee3888c7d44ebfbf3521bdb43cee31869dda8d24737\">Link - Notebook</a></li>\n",
    "    <li><a href=\"https://nuestraciudad.info/portal/Portal:Tabla_de_barrios_de_C%C3%B3rdoba\">Data source - wikipedia</a></li>\n",
    "    <li><a href=\"https://gobiernoabierto.cordoba.gob.ar/data/datos-abiertos/categoria/sociedad/codigo-postal-para-la-ciudad-de-cordoba/169\">Data source - City of cba</a></li>\n",
    "    <li><a href=\"https://www.coursera.org/learn/applied-data-science-capstone\">Applied Data Science Capstone</a></li>\n",
    "    <li><a href=\"https://www.crummy.com/software/BeautifulSoup/bs4/doc/\">Beautiful Soup Documentation</a></li>\n",
    "    <li><a href=\"https://requests.readthedocs.io/en/master/\">Request Documentation</a></li>\n",
    "    <li><a href=\"https://pandas.pydata.org/docs/\">Pandas Documentation</a></li>\n",
    "    <li><a href=\"https://numpy.org/doc/\">NumPy Documentation</a></li>\n",
    "    <li><a href=\"https://github.com/Azhura/Coursera_Capstone\">Labs</a></li>\n",
    "</ol>\n",
    "</div>"
   ]
  },
  {
   "cell_type": "markdown",
   "metadata": {},
   "source": [
    "This notebook was created by [Carlos Alberto Gómez Prado](https://www.linkedin.com/in/carlospradobigdata/), as an assignment for the IBM coursera course.   \n",
    "\n",
    "This notebook is part of a course on **Coursera** called *Applied Data Science Capstone*. If you accessed this notebook outside the course, you can take this course online by clicking [here](https://www.coursera.org/professional-certificates/ibm-data-science).   \n",
    "Copyright &copy; 2018 [Cognitive Class](https://cognitiveclass.ai/?utm_source=bducopyrightlink&utm_medium=dswb&utm_campaign=bdu). This notebook and its source code are released under the terms of the [MIT License](https://bigdatauniversity.com/mit-license/)."
   ]
  },
  {
   "cell_type": "markdown",
   "metadata": {},
   "source": [
    "***"
   ]
  }
 ],
 "metadata": {
  "kernelspec": {
   "display_name": "Python 3.6",
   "language": "python",
   "name": "python3"
  },
  "language_info": {
   "codemirror_mode": {
    "name": "ipython",
    "version": 3
   },
   "file_extension": ".py",
   "mimetype": "text/x-python",
   "name": "python",
   "nbconvert_exporter": "python",
   "pygments_lexer": "ipython3",
   "version": "3.6.9"
  }
 },
 "nbformat": 4,
 "nbformat_minor": 4
}
